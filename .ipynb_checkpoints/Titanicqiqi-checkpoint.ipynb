{
 "cells": [
  {
   "cell_type": "markdown",
   "metadata": {},
   "source": [
    "# Titanic"
   ]
  },
  {
   "cell_type": "markdown",
   "metadata": {},
   "source": [
    "In this notebook, I provide my own statistical analysis of the Titanic dataset."
   ]
  },
  {
   "cell_type": "markdown",
   "metadata": {},
   "source": [
    "## Data preparation"
   ]
  },
  {
   "cell_type": "markdown",
   "metadata": {},
   "source": [
    "### Import data"
   ]
  },
  {
   "cell_type": "markdown",
   "metadata": {},
   "source": [
    "The dataset includes train.csv and test.csv."
   ]
  },
  {
   "cell_type": "code",
   "execution_count": 1,
   "metadata": {
    "collapsed": true
   },
   "outputs": [],
   "source": [
    "import pandas as pd\n",
    "import numpy as np\n",
    "import matplotlib.pyplot as plt\n",
    "import matplotlib.lines as mlines\n",
    "%matplotlib inline"
   ]
  },
  {
   "cell_type": "code",
   "execution_count": 2,
   "metadata": {
    "collapsed": false
   },
   "outputs": [
    {
     "data": {
      "text/html": [
       "<div>\n",
       "<table border=\"1\" class=\"dataframe\">\n",
       "  <thead>\n",
       "    <tr style=\"text-align: right;\">\n",
       "      <th></th>\n",
       "      <th>PassengerId</th>\n",
       "      <th>Survived</th>\n",
       "      <th>Pclass</th>\n",
       "      <th>Name</th>\n",
       "      <th>Sex</th>\n",
       "      <th>Age</th>\n",
       "      <th>SibSp</th>\n",
       "      <th>Parch</th>\n",
       "      <th>Ticket</th>\n",
       "      <th>Fare</th>\n",
       "      <th>Cabin</th>\n",
       "      <th>Embarked</th>\n",
       "    </tr>\n",
       "  </thead>\n",
       "  <tbody>\n",
       "    <tr>\n",
       "      <th>0</th>\n",
       "      <td>1</td>\n",
       "      <td>0</td>\n",
       "      <td>3</td>\n",
       "      <td>Braund, Mr. Owen Harris</td>\n",
       "      <td>male</td>\n",
       "      <td>22.0</td>\n",
       "      <td>1</td>\n",
       "      <td>0</td>\n",
       "      <td>A/5 21171</td>\n",
       "      <td>7.2500</td>\n",
       "      <td>NaN</td>\n",
       "      <td>S</td>\n",
       "    </tr>\n",
       "    <tr>\n",
       "      <th>1</th>\n",
       "      <td>2</td>\n",
       "      <td>1</td>\n",
       "      <td>1</td>\n",
       "      <td>Cumings, Mrs. John Bradley (Florence Briggs Th...</td>\n",
       "      <td>female</td>\n",
       "      <td>38.0</td>\n",
       "      <td>1</td>\n",
       "      <td>0</td>\n",
       "      <td>PC 17599</td>\n",
       "      <td>71.2833</td>\n",
       "      <td>C85</td>\n",
       "      <td>C</td>\n",
       "    </tr>\n",
       "    <tr>\n",
       "      <th>2</th>\n",
       "      <td>3</td>\n",
       "      <td>1</td>\n",
       "      <td>3</td>\n",
       "      <td>Heikkinen, Miss. Laina</td>\n",
       "      <td>female</td>\n",
       "      <td>26.0</td>\n",
       "      <td>0</td>\n",
       "      <td>0</td>\n",
       "      <td>STON/O2. 3101282</td>\n",
       "      <td>7.9250</td>\n",
       "      <td>NaN</td>\n",
       "      <td>S</td>\n",
       "    </tr>\n",
       "    <tr>\n",
       "      <th>3</th>\n",
       "      <td>4</td>\n",
       "      <td>1</td>\n",
       "      <td>1</td>\n",
       "      <td>Futrelle, Mrs. Jacques Heath (Lily May Peel)</td>\n",
       "      <td>female</td>\n",
       "      <td>35.0</td>\n",
       "      <td>1</td>\n",
       "      <td>0</td>\n",
       "      <td>113803</td>\n",
       "      <td>53.1000</td>\n",
       "      <td>C123</td>\n",
       "      <td>S</td>\n",
       "    </tr>\n",
       "    <tr>\n",
       "      <th>4</th>\n",
       "      <td>5</td>\n",
       "      <td>0</td>\n",
       "      <td>3</td>\n",
       "      <td>Allen, Mr. William Henry</td>\n",
       "      <td>male</td>\n",
       "      <td>35.0</td>\n",
       "      <td>0</td>\n",
       "      <td>0</td>\n",
       "      <td>373450</td>\n",
       "      <td>8.0500</td>\n",
       "      <td>NaN</td>\n",
       "      <td>S</td>\n",
       "    </tr>\n",
       "  </tbody>\n",
       "</table>\n",
       "</div>"
      ],
      "text/plain": [
       "   PassengerId  Survived  Pclass  \\\n",
       "0            1         0       3   \n",
       "1            2         1       1   \n",
       "2            3         1       3   \n",
       "3            4         1       1   \n",
       "4            5         0       3   \n",
       "\n",
       "                                                Name     Sex   Age  SibSp  \\\n",
       "0                            Braund, Mr. Owen Harris    male  22.0      1   \n",
       "1  Cumings, Mrs. John Bradley (Florence Briggs Th...  female  38.0      1   \n",
       "2                             Heikkinen, Miss. Laina  female  26.0      0   \n",
       "3       Futrelle, Mrs. Jacques Heath (Lily May Peel)  female  35.0      1   \n",
       "4                           Allen, Mr. William Henry    male  35.0      0   \n",
       "\n",
       "   Parch            Ticket     Fare Cabin Embarked  \n",
       "0      0         A/5 21171   7.2500   NaN        S  \n",
       "1      0          PC 17599  71.2833   C85        C  \n",
       "2      0  STON/O2. 3101282   7.9250   NaN        S  \n",
       "3      0            113803  53.1000  C123        S  \n",
       "4      0            373450   8.0500   NaN        S  "
      ]
     },
     "execution_count": 2,
     "metadata": {},
     "output_type": "execute_result"
    }
   ],
   "source": [
    "train_df=pd.read_csv('train.csv')\n",
    "test_df=pd.read_csv('test.csv')\n",
    "train_df.head()"
   ]
  },
  {
   "cell_type": "markdown",
   "metadata": {},
   "source": [
    "### preprocessing"
   ]
  },
  {
   "cell_type": "markdown",
   "metadata": {},
   "source": [
    "**Categorical variables**:"
   ]
  },
  {
   "cell_type": "code",
   "execution_count": 3,
   "metadata": {
    "collapsed": false
   },
   "outputs": [],
   "source": [
    "pclass_dummies_train=pd.get_dummies(train_df['Pclass'])\n",
    "pclass_dummies_test=pd.get_dummies(test_df['Pclass'])\n",
    "pclass_dummies_train.columns=['Pclass_1','Pclass_2','Pclass_3']\n",
    "pclass_dummies_test.columns=['Pclass_1','Pclass_2','Pclass_3']\n",
    "\n",
    "train_df.drop(['Pclass'],axis=1,inplace=True)\n",
    "test_df.drop(['Pclass'],axis=1,inplace=True)\n",
    "\n",
    "train_df=train_df.join(pclass_dummies_train)\n",
    "test_df=test_df.join(pclass_dummies_test)"
   ]
  },
  {
   "cell_type": "code",
   "execution_count": 4,
   "metadata": {
    "collapsed": false
   },
   "outputs": [],
   "source": [
    "train_df=train_df.drop(['PassengerId','Name','Ticket','Cabin'],1)\n",
    "train_df=pd.get_dummies(train_df)\n",
    "train_df.dropna(inplace=True)\n",
    "test_df=test_df.drop(['PassengerId','Name','Ticket','Cabin'],1)\n",
    "test_df=pd.get_dummies(test_df)\n",
    "test_df.dropna(inplace=True)"
   ]
  },
  {
   "cell_type": "code",
   "execution_count": 5,
   "metadata": {
    "collapsed": false
   },
   "outputs": [
    {
     "data": {
      "text/html": [
       "<div>\n",
       "<table border=\"1\" class=\"dataframe\">\n",
       "  <thead>\n",
       "    <tr style=\"text-align: right;\">\n",
       "      <th></th>\n",
       "      <th>Survived</th>\n",
       "      <th>Age</th>\n",
       "      <th>SibSp</th>\n",
       "      <th>Parch</th>\n",
       "      <th>Fare</th>\n",
       "      <th>Pclass_1</th>\n",
       "      <th>Pclass_2</th>\n",
       "      <th>Pclass_3</th>\n",
       "      <th>Sex_female</th>\n",
       "      <th>Sex_male</th>\n",
       "      <th>Embarked_C</th>\n",
       "      <th>Embarked_Q</th>\n",
       "      <th>Embarked_S</th>\n",
       "    </tr>\n",
       "  </thead>\n",
       "  <tbody>\n",
       "    <tr>\n",
       "      <th>0</th>\n",
       "      <td>0</td>\n",
       "      <td>22.0</td>\n",
       "      <td>1</td>\n",
       "      <td>0</td>\n",
       "      <td>7.2500</td>\n",
       "      <td>0.0</td>\n",
       "      <td>0.0</td>\n",
       "      <td>1.0</td>\n",
       "      <td>0.0</td>\n",
       "      <td>1.0</td>\n",
       "      <td>0.0</td>\n",
       "      <td>0.0</td>\n",
       "      <td>1.0</td>\n",
       "    </tr>\n",
       "    <tr>\n",
       "      <th>1</th>\n",
       "      <td>1</td>\n",
       "      <td>38.0</td>\n",
       "      <td>1</td>\n",
       "      <td>0</td>\n",
       "      <td>71.2833</td>\n",
       "      <td>1.0</td>\n",
       "      <td>0.0</td>\n",
       "      <td>0.0</td>\n",
       "      <td>1.0</td>\n",
       "      <td>0.0</td>\n",
       "      <td>1.0</td>\n",
       "      <td>0.0</td>\n",
       "      <td>0.0</td>\n",
       "    </tr>\n",
       "    <tr>\n",
       "      <th>2</th>\n",
       "      <td>1</td>\n",
       "      <td>26.0</td>\n",
       "      <td>0</td>\n",
       "      <td>0</td>\n",
       "      <td>7.9250</td>\n",
       "      <td>0.0</td>\n",
       "      <td>0.0</td>\n",
       "      <td>1.0</td>\n",
       "      <td>1.0</td>\n",
       "      <td>0.0</td>\n",
       "      <td>0.0</td>\n",
       "      <td>0.0</td>\n",
       "      <td>1.0</td>\n",
       "    </tr>\n",
       "    <tr>\n",
       "      <th>3</th>\n",
       "      <td>1</td>\n",
       "      <td>35.0</td>\n",
       "      <td>1</td>\n",
       "      <td>0</td>\n",
       "      <td>53.1000</td>\n",
       "      <td>1.0</td>\n",
       "      <td>0.0</td>\n",
       "      <td>0.0</td>\n",
       "      <td>1.0</td>\n",
       "      <td>0.0</td>\n",
       "      <td>0.0</td>\n",
       "      <td>0.0</td>\n",
       "      <td>1.0</td>\n",
       "    </tr>\n",
       "    <tr>\n",
       "      <th>4</th>\n",
       "      <td>0</td>\n",
       "      <td>35.0</td>\n",
       "      <td>0</td>\n",
       "      <td>0</td>\n",
       "      <td>8.0500</td>\n",
       "      <td>0.0</td>\n",
       "      <td>0.0</td>\n",
       "      <td>1.0</td>\n",
       "      <td>0.0</td>\n",
       "      <td>1.0</td>\n",
       "      <td>0.0</td>\n",
       "      <td>0.0</td>\n",
       "      <td>1.0</td>\n",
       "    </tr>\n",
       "  </tbody>\n",
       "</table>\n",
       "</div>"
      ],
      "text/plain": [
       "   Survived   Age  SibSp  Parch     Fare  Pclass_1  Pclass_2  Pclass_3  \\\n",
       "0         0  22.0      1      0   7.2500       0.0       0.0       1.0   \n",
       "1         1  38.0      1      0  71.2833       1.0       0.0       0.0   \n",
       "2         1  26.0      0      0   7.9250       0.0       0.0       1.0   \n",
       "3         1  35.0      1      0  53.1000       1.0       0.0       0.0   \n",
       "4         0  35.0      0      0   8.0500       0.0       0.0       1.0   \n",
       "\n",
       "   Sex_female  Sex_male  Embarked_C  Embarked_Q  Embarked_S  \n",
       "0         0.0       1.0         0.0         0.0         1.0  \n",
       "1         1.0       0.0         1.0         0.0         0.0  \n",
       "2         1.0       0.0         0.0         0.0         1.0  \n",
       "3         1.0       0.0         0.0         0.0         1.0  \n",
       "4         0.0       1.0         0.0         0.0         1.0  "
      ]
     },
     "execution_count": 5,
     "metadata": {},
     "output_type": "execute_result"
    }
   ],
   "source": [
    "train_df.head()"
   ]
  },
  {
   "cell_type": "code",
   "execution_count": 6,
   "metadata": {
    "collapsed": false
   },
   "outputs": [
    {
     "data": {
      "text/html": [
       "<div>\n",
       "<table border=\"1\" class=\"dataframe\">\n",
       "  <thead>\n",
       "    <tr style=\"text-align: right;\">\n",
       "      <th></th>\n",
       "      <th>Age</th>\n",
       "      <th>SibSp</th>\n",
       "      <th>Parch</th>\n",
       "      <th>Fare</th>\n",
       "      <th>Pclass_1</th>\n",
       "      <th>Pclass_2</th>\n",
       "      <th>Pclass_3</th>\n",
       "      <th>Sex_female</th>\n",
       "      <th>Sex_male</th>\n",
       "      <th>Embarked_C</th>\n",
       "      <th>Embarked_Q</th>\n",
       "      <th>Embarked_S</th>\n",
       "    </tr>\n",
       "  </thead>\n",
       "  <tbody>\n",
       "    <tr>\n",
       "      <th>0</th>\n",
       "      <td>34.5</td>\n",
       "      <td>0</td>\n",
       "      <td>0</td>\n",
       "      <td>7.8292</td>\n",
       "      <td>0.0</td>\n",
       "      <td>0.0</td>\n",
       "      <td>1.0</td>\n",
       "      <td>0.0</td>\n",
       "      <td>1.0</td>\n",
       "      <td>0.0</td>\n",
       "      <td>1.0</td>\n",
       "      <td>0.0</td>\n",
       "    </tr>\n",
       "    <tr>\n",
       "      <th>1</th>\n",
       "      <td>47.0</td>\n",
       "      <td>1</td>\n",
       "      <td>0</td>\n",
       "      <td>7.0000</td>\n",
       "      <td>0.0</td>\n",
       "      <td>0.0</td>\n",
       "      <td>1.0</td>\n",
       "      <td>1.0</td>\n",
       "      <td>0.0</td>\n",
       "      <td>0.0</td>\n",
       "      <td>0.0</td>\n",
       "      <td>1.0</td>\n",
       "    </tr>\n",
       "    <tr>\n",
       "      <th>2</th>\n",
       "      <td>62.0</td>\n",
       "      <td>0</td>\n",
       "      <td>0</td>\n",
       "      <td>9.6875</td>\n",
       "      <td>0.0</td>\n",
       "      <td>1.0</td>\n",
       "      <td>0.0</td>\n",
       "      <td>0.0</td>\n",
       "      <td>1.0</td>\n",
       "      <td>0.0</td>\n",
       "      <td>1.0</td>\n",
       "      <td>0.0</td>\n",
       "    </tr>\n",
       "    <tr>\n",
       "      <th>3</th>\n",
       "      <td>27.0</td>\n",
       "      <td>0</td>\n",
       "      <td>0</td>\n",
       "      <td>8.6625</td>\n",
       "      <td>0.0</td>\n",
       "      <td>0.0</td>\n",
       "      <td>1.0</td>\n",
       "      <td>0.0</td>\n",
       "      <td>1.0</td>\n",
       "      <td>0.0</td>\n",
       "      <td>0.0</td>\n",
       "      <td>1.0</td>\n",
       "    </tr>\n",
       "    <tr>\n",
       "      <th>4</th>\n",
       "      <td>22.0</td>\n",
       "      <td>1</td>\n",
       "      <td>1</td>\n",
       "      <td>12.2875</td>\n",
       "      <td>0.0</td>\n",
       "      <td>0.0</td>\n",
       "      <td>1.0</td>\n",
       "      <td>1.0</td>\n",
       "      <td>0.0</td>\n",
       "      <td>0.0</td>\n",
       "      <td>0.0</td>\n",
       "      <td>1.0</td>\n",
       "    </tr>\n",
       "  </tbody>\n",
       "</table>\n",
       "</div>"
      ],
      "text/plain": [
       "    Age  SibSp  Parch     Fare  Pclass_1  Pclass_2  Pclass_3  Sex_female  \\\n",
       "0  34.5      0      0   7.8292       0.0       0.0       1.0         0.0   \n",
       "1  47.0      1      0   7.0000       0.0       0.0       1.0         1.0   \n",
       "2  62.0      0      0   9.6875       0.0       1.0       0.0         0.0   \n",
       "3  27.0      0      0   8.6625       0.0       0.0       1.0         0.0   \n",
       "4  22.0      1      1  12.2875       0.0       0.0       1.0         1.0   \n",
       "\n",
       "   Sex_male  Embarked_C  Embarked_Q  Embarked_S  \n",
       "0       1.0         0.0         1.0         0.0  \n",
       "1       0.0         0.0         0.0         1.0  \n",
       "2       1.0         0.0         1.0         0.0  \n",
       "3       1.0         0.0         0.0         1.0  \n",
       "4       0.0         0.0         0.0         1.0  "
      ]
     },
     "execution_count": 6,
     "metadata": {},
     "output_type": "execute_result"
    }
   ],
   "source": [
    "test_df.head()"
   ]
  },
  {
   "cell_type": "markdown",
   "metadata": {},
   "source": [
    "### preparing training and validation data"
   ]
  },
  {
   "cell_type": "markdown",
   "metadata": {},
   "source": [
    "The training data is splitted into train and validation sets."
   ]
  },
  {
   "cell_type": "code",
   "execution_count": 7,
   "metadata": {
    "collapsed": false
   },
   "outputs": [],
   "source": [
    "from sklearn.cross_validation import train_test_split\n",
    "X_train=train_df.drop(['Embarked_S','Sex_male','Pclass_3','Survived'],axis=1)\n",
    "y_train=train_df['Survived']\n",
    "X_train, X_val, y_train, y_val = train_test_split(X_train, y_train, test_size=0.8)"
   ]
  },
  {
   "cell_type": "code",
   "execution_count": 8,
   "metadata": {
    "collapsed": false
   },
   "outputs": [
    {
     "data": {
      "text/html": [
       "<div>\n",
       "<table border=\"1\" class=\"dataframe\">\n",
       "  <thead>\n",
       "    <tr style=\"text-align: right;\">\n",
       "      <th></th>\n",
       "      <th>Age</th>\n",
       "      <th>SibSp</th>\n",
       "      <th>Parch</th>\n",
       "      <th>Fare</th>\n",
       "      <th>Pclass_1</th>\n",
       "      <th>Pclass_2</th>\n",
       "      <th>Sex_female</th>\n",
       "      <th>Embarked_C</th>\n",
       "      <th>Embarked_Q</th>\n",
       "    </tr>\n",
       "  </thead>\n",
       "  <tbody>\n",
       "    <tr>\n",
       "      <th>417</th>\n",
       "      <td>18.0</td>\n",
       "      <td>0</td>\n",
       "      <td>2</td>\n",
       "      <td>13.0000</td>\n",
       "      <td>0.0</td>\n",
       "      <td>1.0</td>\n",
       "      <td>1.0</td>\n",
       "      <td>0.0</td>\n",
       "      <td>0.0</td>\n",
       "    </tr>\n",
       "    <tr>\n",
       "      <th>571</th>\n",
       "      <td>53.0</td>\n",
       "      <td>2</td>\n",
       "      <td>0</td>\n",
       "      <td>51.4792</td>\n",
       "      <td>1.0</td>\n",
       "      <td>0.0</td>\n",
       "      <td>1.0</td>\n",
       "      <td>0.0</td>\n",
       "      <td>0.0</td>\n",
       "    </tr>\n",
       "    <tr>\n",
       "      <th>586</th>\n",
       "      <td>47.0</td>\n",
       "      <td>0</td>\n",
       "      <td>0</td>\n",
       "      <td>15.0000</td>\n",
       "      <td>0.0</td>\n",
       "      <td>1.0</td>\n",
       "      <td>0.0</td>\n",
       "      <td>0.0</td>\n",
       "      <td>0.0</td>\n",
       "    </tr>\n",
       "    <tr>\n",
       "      <th>338</th>\n",
       "      <td>45.0</td>\n",
       "      <td>0</td>\n",
       "      <td>0</td>\n",
       "      <td>8.0500</td>\n",
       "      <td>0.0</td>\n",
       "      <td>0.0</td>\n",
       "      <td>0.0</td>\n",
       "      <td>0.0</td>\n",
       "      <td>0.0</td>\n",
       "    </tr>\n",
       "    <tr>\n",
       "      <th>329</th>\n",
       "      <td>16.0</td>\n",
       "      <td>0</td>\n",
       "      <td>1</td>\n",
       "      <td>57.9792</td>\n",
       "      <td>1.0</td>\n",
       "      <td>0.0</td>\n",
       "      <td>1.0</td>\n",
       "      <td>1.0</td>\n",
       "      <td>0.0</td>\n",
       "    </tr>\n",
       "  </tbody>\n",
       "</table>\n",
       "</div>"
      ],
      "text/plain": [
       "      Age  SibSp  Parch     Fare  Pclass_1  Pclass_2  Sex_female  Embarked_C  \\\n",
       "417  18.0      0      2  13.0000       0.0       1.0         1.0         0.0   \n",
       "571  53.0      2      0  51.4792       1.0       0.0         1.0         0.0   \n",
       "586  47.0      0      0  15.0000       0.0       1.0         0.0         0.0   \n",
       "338  45.0      0      0   8.0500       0.0       0.0         0.0         0.0   \n",
       "329  16.0      0      1  57.9792       1.0       0.0         1.0         1.0   \n",
       "\n",
       "     Embarked_Q  \n",
       "417         0.0  \n",
       "571         0.0  \n",
       "586         0.0  \n",
       "338         0.0  \n",
       "329         0.0  "
      ]
     },
     "execution_count": 8,
     "metadata": {},
     "output_type": "execute_result"
    }
   ],
   "source": [
    "X_train.head()"
   ]
  },
  {
   "cell_type": "markdown",
   "metadata": {},
   "source": [
    "###  prepare test data"
   ]
  },
  {
   "cell_type": "code",
   "execution_count": 9,
   "metadata": {
    "collapsed": true
   },
   "outputs": [],
   "source": [
    "X_test=test_df.drop(['Embarked_S','Sex_male','Pclass_3'],axis=1)"
   ]
  },
  {
   "cell_type": "code",
   "execution_count": 10,
   "metadata": {
    "collapsed": false
   },
   "outputs": [
    {
     "data": {
      "text/html": [
       "<div>\n",
       "<table border=\"1\" class=\"dataframe\">\n",
       "  <thead>\n",
       "    <tr style=\"text-align: right;\">\n",
       "      <th></th>\n",
       "      <th>Age</th>\n",
       "      <th>SibSp</th>\n",
       "      <th>Parch</th>\n",
       "      <th>Fare</th>\n",
       "      <th>Pclass_1</th>\n",
       "      <th>Pclass_2</th>\n",
       "      <th>Sex_female</th>\n",
       "      <th>Embarked_C</th>\n",
       "      <th>Embarked_Q</th>\n",
       "    </tr>\n",
       "  </thead>\n",
       "  <tbody>\n",
       "    <tr>\n",
       "      <th>0</th>\n",
       "      <td>34.5</td>\n",
       "      <td>0</td>\n",
       "      <td>0</td>\n",
       "      <td>7.8292</td>\n",
       "      <td>0.0</td>\n",
       "      <td>0.0</td>\n",
       "      <td>0.0</td>\n",
       "      <td>0.0</td>\n",
       "      <td>1.0</td>\n",
       "    </tr>\n",
       "    <tr>\n",
       "      <th>1</th>\n",
       "      <td>47.0</td>\n",
       "      <td>1</td>\n",
       "      <td>0</td>\n",
       "      <td>7.0000</td>\n",
       "      <td>0.0</td>\n",
       "      <td>0.0</td>\n",
       "      <td>1.0</td>\n",
       "      <td>0.0</td>\n",
       "      <td>0.0</td>\n",
       "    </tr>\n",
       "    <tr>\n",
       "      <th>2</th>\n",
       "      <td>62.0</td>\n",
       "      <td>0</td>\n",
       "      <td>0</td>\n",
       "      <td>9.6875</td>\n",
       "      <td>0.0</td>\n",
       "      <td>1.0</td>\n",
       "      <td>0.0</td>\n",
       "      <td>0.0</td>\n",
       "      <td>1.0</td>\n",
       "    </tr>\n",
       "    <tr>\n",
       "      <th>3</th>\n",
       "      <td>27.0</td>\n",
       "      <td>0</td>\n",
       "      <td>0</td>\n",
       "      <td>8.6625</td>\n",
       "      <td>0.0</td>\n",
       "      <td>0.0</td>\n",
       "      <td>0.0</td>\n",
       "      <td>0.0</td>\n",
       "      <td>0.0</td>\n",
       "    </tr>\n",
       "    <tr>\n",
       "      <th>4</th>\n",
       "      <td>22.0</td>\n",
       "      <td>1</td>\n",
       "      <td>1</td>\n",
       "      <td>12.2875</td>\n",
       "      <td>0.0</td>\n",
       "      <td>0.0</td>\n",
       "      <td>1.0</td>\n",
       "      <td>0.0</td>\n",
       "      <td>0.0</td>\n",
       "    </tr>\n",
       "  </tbody>\n",
       "</table>\n",
       "</div>"
      ],
      "text/plain": [
       "    Age  SibSp  Parch     Fare  Pclass_1  Pclass_2  Sex_female  Embarked_C  \\\n",
       "0  34.5      0      0   7.8292       0.0       0.0         0.0         0.0   \n",
       "1  47.0      1      0   7.0000       0.0       0.0         1.0         0.0   \n",
       "2  62.0      0      0   9.6875       0.0       1.0         0.0         0.0   \n",
       "3  27.0      0      0   8.6625       0.0       0.0         0.0         0.0   \n",
       "4  22.0      1      1  12.2875       0.0       0.0         1.0         0.0   \n",
       "\n",
       "   Embarked_Q  \n",
       "0         1.0  \n",
       "1         0.0  \n",
       "2         1.0  \n",
       "3         0.0  \n",
       "4         0.0  "
      ]
     },
     "execution_count": 10,
     "metadata": {},
     "output_type": "execute_result"
    }
   ],
   "source": [
    "X_test.head()"
   ]
  },
  {
   "cell_type": "markdown",
   "metadata": {},
   "source": [
    "## Data Analysis"
   ]
  },
  {
   "cell_type": "markdown",
   "metadata": {},
   "source": [
    "First we use Logistic regression to select features."
   ]
  },
  {
   "cell_type": "markdown",
   "metadata": {},
   "source": [
    "### Logistic Regression"
   ]
  },
  {
   "cell_type": "code",
   "execution_count": 11,
   "metadata": {
    "collapsed": false
   },
   "outputs": [
    {
     "name": "stdout",
     "output_type": "stream",
     "text": [
      "Optimization terminated successfully.\n",
      "         Current function value: 0.444727\n",
      "         Iterations 6\n",
      "                           Logit Regression Results                           \n",
      "==============================================================================\n",
      "Dep. Variable:               Survived   No. Observations:                  142\n",
      "Model:                          Logit   Df Residuals:                      132\n",
      "Method:                           MLE   Df Model:                            9\n",
      "Date:                Mon, 17 Apr 2017   Pseudo R-squ.:                  0.3189\n",
      "Time:                        12:00:42   Log-Likelihood:                -63.151\n",
      "converged:                       True   LL-Null:                       -92.716\n",
      "                                        LLR p-value:                 1.972e-09\n",
      "==============================================================================\n",
      "                 coef    std err          z      P>|z|      [95.0% Conf. Int.]\n",
      "------------------------------------------------------------------------------\n",
      "const         -1.5144      0.677     -2.235      0.025        -2.842    -0.187\n",
      "Age           -0.0258      0.019     -1.330      0.183        -0.064     0.012\n",
      "SibSp         -0.0024      0.274     -0.009      0.993        -0.539     0.534\n",
      "Parch          0.0074      0.279      0.027      0.979        -0.539     0.554\n",
      "Fare          -0.0062      0.007     -0.857      0.392        -0.020     0.008\n",
      "Pclass_1       2.1693      0.895      2.423      0.015         0.415     3.924\n",
      "Pclass_2       0.6715      0.594      1.131      0.258        -0.492     1.835\n",
      "Sex_female     2.7271      0.487      5.599      0.000         1.773     3.682\n",
      "Embarked_C    -0.7452      0.727     -1.024      0.306        -2.171     0.681\n",
      "Embarked_Q    -0.8619      1.386     -0.622      0.534        -3.578     1.854\n",
      "==============================================================================\n"
     ]
    }
   ],
   "source": [
    "import statsmodels.api as sm\n",
    "from statsmodels.discrete.discrete_model import Logit\n",
    "\n",
    "X_train=sm.add_constant(X_train)\n",
    "X_val=sm.add_constant(X_val)\n",
    "X_test=sm.add_constant(X_test)\n",
    "\n",
    "logit = Logit(y_train,X_train)\n",
    "result=logit.fit()\n",
    "print result.summary()"
   ]
  },
  {
   "cell_type": "code",
   "execution_count": 12,
   "metadata": {
    "collapsed": true
   },
   "outputs": [],
   "source": [
    "from sklearn import metrics, cross_validation\n",
    "import matplotlib.pyplot as plt\n",
    "import matplotlib.lines as mlines\n",
    "%matplotlib inline\n",
    "\n",
    "def ROCplot2(y_train, y_train_prob, y_val,y_val_prob, title):\n",
    "    fpr_train, tpr_train, _ = metrics.roc_curve(y_train,y_train_prob)\n",
    "    roc_auc_train = metrics.auc(fpr_train, tpr_train)\n",
    "    \n",
    "    fpr_val, tpr_val, _ = metrics.roc_curve(y_val,y_val_prob)\n",
    "    roc_auc_val = metrics.auc(fpr_val, tpr_val)\n",
    "    \n",
    "    plt.figure(figsize=(8,6))\n",
    "    plt.plot(fpr_train, tpr_train, color = 'r')\n",
    "    plt.plot(fpr_val, tpr_val, color = 'b')\n",
    "    plt.plot([0, 1], [0, 1], 'k--')\n",
    "    plt.xlim([0.0, 1.0])\n",
    "    plt.ylim([0.0, 1.0])\n",
    "    plt.xlabel('False Positive Rate')\n",
    "    plt.ylabel('True Positive Rate')\n",
    "    plt.title(title)\n",
    "    red_line = mlines.Line2D([], [], color='red', label='ROC train (area = %0.2f)' % roc_auc_train)\n",
    "    blue_line = mlines.Line2D([], [], color='blue', label='ROC val (area = %0.2f)' % roc_auc_val)\n",
    "    plt.legend(handles=[red_line, blue_line],loc=\"lower right\")"
   ]
  },
  {
   "cell_type": "code",
   "execution_count": 13,
   "metadata": {
    "collapsed": false
   },
   "outputs": [
    {
     "data": {
      "image/png": "[encoded data removed]",
      "text/plain": [
       "<matplotlib.figure.Figure at 0x114c80110>"
      ]
     },
     "metadata": {},
     "output_type": "display_data"
    }
   ],
   "source": [
    "y_train_prob = result.predict(X_train)\n",
    "y_val_prob = result.predict(X_val)\n",
    "ROCplot2(y_train, y_train_prob, y_val,y_val_prob, 'Logistic Regression')"
   ]
  },
  {
   "cell_type": "markdown",
   "metadata": {},
   "source": [
    "### sklearn logistic regression"
   ]
  },
  {
   "cell_type": "code",
   "execution_count": 14,
   "metadata": {
    "collapsed": false
   },
   "outputs": [
    {
     "data": {
      "text/plain": [
       "LogisticRegression(C=100000.0, class_weight=None, dual=False,\n",
       "          fit_intercept=True, intercept_scaling=1, max_iter=100,\n",
       "          multi_class='ovr', n_jobs=1, penalty='l1', random_state=None,\n",
       "          solver='liblinear', tol=0.0001, verbose=0, warm_start=False)"
      ]
     },
     "execution_count": 14,
     "metadata": {},
     "output_type": "execute_result"
    }
   ],
   "source": [
    "from sklearn import linear_model\n",
    "logreg = linear_model.LogisticRegression(penalty='l1', C=1e5)\n",
    "X_train.drop(['const'],axis=1,inplace=True)\n",
    "X_val.drop(['const'],axis=1,inplace=True)\n",
    "X_test.drop(['const'],axis=1,inplace=True)\n",
    "logreg.fit(X_train, y_train)"
   ]
  },
  {
   "cell_type": "code",
   "execution_count": 15,
   "metadata": {
    "collapsed": false
   },
   "outputs": [
    {
     "name": "stdout",
     "output_type": "stream",
     "text": [
      "('Accuracy:', 0.823943661971831, 0.77447552447552448)\n"
     ]
    }
   ],
   "source": [
    "print ('Accuracy:', logreg.score(X_train, y_train), logreg.score(X_val, y_val))"
   ]
  },
  {
   "cell_type": "code",
   "execution_count": 16,
   "metadata": {
    "collapsed": false
   },
   "outputs": [
    {
     "data": {
      "text/plain": [
       "array([[ -2.57605023e-02,  -2.41046033e-03,   7.41704420e-03,\n",
       "         -6.15305950e-03,   2.16924251e+00,   6.71528997e-01,\n",
       "          2.72713177e+00,  -7.45188963e-01,  -8.61868649e-01]])"
      ]
     },
     "execution_count": 16,
     "metadata": {},
     "output_type": "execute_result"
    }
   ],
   "source": [
    "logreg.coef_"
   ]
  },
  {
   "cell_type": "code",
   "execution_count": 17,
   "metadata": {
    "collapsed": true
   },
   "outputs": [],
   "source": [
    "def ROCplot(y_train, y_train_prob, y_val,y_val_prob, title):\n",
    "    fpr_train, tpr_train, _ = metrics.roc_curve(y_train,y_train_prob[:,1])\n",
    "    roc_auc_train = metrics.auc(fpr_train, tpr_train)\n",
    "\n",
    "    fpr_val, tpr_val, _ = metrics.roc_curve(y_val,y_val_prob[:,1])\n",
    "    roc_auc_val = metrics.auc(fpr_val, tpr_val)\n",
    "    \n",
    "    plt.figure(figsize=(8,6))\n",
    "    plt.plot(fpr_train, tpr_train, color = 'r')\n",
    "    plt.plot(fpr_val, tpr_val, color = 'b')\n",
    "    plt.plot([0, 1], [0, 1], 'k--')\n",
    "    plt.xlim([0.0, 1.0])\n",
    "    plt.ylim([0.0, 1.0])\n",
    "    plt.xlabel('False Positive Rate')\n",
    "    plt.ylabel('True Positive Rate')\n",
    "    plt.title(title)\n",
    "    red_line = mlines.Line2D([], [], color='red', label='ROC train (area = %0.2f)' % roc_auc_train)\n",
    "    blue_line = mlines.Line2D([], [], color='blue', label='ROC val (area = %0.2f)' % roc_auc_val)\n",
    "    plt.legend(handles=[red_line, blue_line],loc=\"lower right\")"
   ]
  },
  {
   "cell_type": "code",
   "execution_count": 18,
   "metadata": {
    "collapsed": false
   },
   "outputs": [
    {
     "data": {
      "image/png": "[encoded data removed]",
      "text/plain": [
       "<matplotlib.figure.Figure at 0x11aec1d50>"
      ]
     },
     "metadata": {},
     "output_type": "display_data"
    }
   ],
   "source": [
    "y_train_prob = logreg.predict_proba(X_train)\n",
    "y_val_prob = logreg.predict_proba(X_val)\n",
    "ROCplot(y_train, y_train_prob, y_val,y_val_prob, 'Logistic Regression')"
   ]
  },
  {
   "cell_type": "markdown",
   "metadata": {},
   "source": [
    "## self-coded Bayes classifier"
   ]
  },
  {
   "cell_type": "code",
   "execution_count": 19,
   "metadata": {
    "collapsed": true
   },
   "outputs": [],
   "source": [
    "def Bayes_classifier_train(k,X_train,y_train):\n",
    "    \"\"\"\n",
    "    :type X_train: n*d numpy array\n",
    "    :type y_train: n*1 numpy array\n",
    "    :return value: (priors,[mu_i for i in xrange(1,K+1)],[Sigma_i for i in xrange(1,K+1)])\n",
    "    :rtype priors: k*1 array\n",
    "    :rtype mu_i: 1*d numpy array\n",
    "    :rtype Sigma_i: d*d numpy array\n",
    "    \"\"\"\n",
    "    # number of training data\n",
    "    n=X_train.shape[0]\n",
    "    # discrete prior\n",
    "    priors=np.array([np.sum(y_train==y)/float(n) for y in xrange(k)])\n",
    "    # mu_y\n",
    "    mu_y=np.array([np.sum(np.array([X_train[i] for i in xrange(n) if y_train[i]==y]),axis=0)\\\n",
    "                   /float(np.sum(y_train==y)) for y in xrange(k)])\n",
    "    # Sigma_y\n",
    "    Sigma_y=np.array([np.sum(np.array([np.outer(X_train[i]-mu_y[y],X_train[i]-mu_y[y]) \\\n",
    "                                       for i in xrange(n) if y_train[i]==y]),axis=0)\\\n",
    "                      /float(np.sum(y_train==y)) for y in xrange(k)])\n",
    "    return (priors,mu_y,Sigma_y)"
   ]
  },
  {
   "cell_type": "code",
   "execution_count": 20,
   "metadata": {
    "collapsed": true
   },
   "outputs": [],
   "source": [
    "def Bayes_classifier_predict(k,X_test, model_params):\n",
    "    \"\"\"\n",
    "    :type k: int\n",
    "    :type X_test: 1*d numpy array\n",
    "    :type model_params: (priors,[mu_i for i in xrange(1,K+1)],[Sigma_i for i in xrange(1,K+1)])\n",
    "    \"\"\"\n",
    "    n=X_test.shape[0]\n",
    "    priors,mu_y,Sigma_y=model_params\n",
    "    posteriors=np.array([[0. for y in xrange(k)] for i in xrange(n)])\n",
    "    for j in xrange(n):\n",
    "        for i in xrange(k):\n",
    "            posteriors[j][i]=priors[i]*(2*np.pi*np.linalg.det(Sigma_y[i]))**(-0.5)\\\n",
    "            *np.exp(-0.5*np.dot(X_test[j]-mu_y[i],np.dot(np.linalg.inv(Sigma_y[i]),X_test[j]-mu_y[i])))\n",
    "        posteriors[j]/=sum(posteriors[j])\n",
    "    return posteriors"
   ]
  },
  {
   "cell_type": "code",
   "execution_count": 35,
   "metadata": {
    "collapsed": false
   },
   "outputs": [],
   "source": [
    "X_train.reset_index(drop=True,inplace=True)\n",
    "y_train.reset_index(drop=True,inplace=True)\n",
    "X_test.reset_index(drop=True,inplace=True)\n",
    "X_train=X_train.as_matrix()\n",
    "X_test=X_test.as_matrix()"
   ]
  },
  {
   "cell_type": "code",
   "execution_count": 38,
   "metadata": {
    "collapsed": false
   },
   "outputs": [
    {
     "data": {
      "text/plain": [
       "array([[  5.70969941e-03,   9.94290301e-01],\n",
       "       [  9.94540192e-04,   9.99005460e-01],\n",
       "       [  9.57065146e-01,   4.29348537e-02],\n",
       "       [  9.61954743e-01,   3.80452575e-02],\n",
       "       [  5.34784248e-03,   9.94652158e-01],\n",
       "       [  1.01187230e-01,   8.98812770e-01],\n",
       "       [  9.95637726e-01,   4.36227355e-03],\n",
       "       [  6.31958867e-02,   9.36804113e-01],\n",
       "       [  9.20469518e-01,   7.95304824e-02],\n",
       "       [  1.21050865e-03,   9.98789491e-01],\n",
       "       [  9.42086672e-01,   5.79133280e-02],\n",
       "       [  9.47402455e-01,   5.25975446e-02],\n",
       "       [  9.97607770e-01,   2.39223036e-03],\n",
       "       [  9.99999999e-01,   1.16617347e-09],\n",
       "       [  9.34681543e-01,   6.53184567e-02],\n",
       "       [  1.06376483e-05,   9.99989362e-01],\n",
       "       [  9.58539129e-01,   4.14608714e-02],\n",
       "       [  9.22632902e-01,   7.73670982e-02],\n",
       "       [  9.60517290e-01,   3.94827103e-02],\n",
       "       [  9.78799061e-01,   2.12009391e-02],\n",
       "       [  7.58303085e-01,   2.41696915e-01],\n",
       "       [  7.44905310e-01,   2.55094690e-01],\n",
       "       [  8.96057177e-01,   1.03942823e-01],\n",
       "       [  5.63227816e-01,   4.36772184e-01],\n",
       "       [  5.94731620e-01,   4.05268380e-01],\n",
       "       [  1.39719658e-02,   9.86028034e-01],\n",
       "       [  9.62235438e-01,   3.77645617e-02],\n",
       "       [  9.61938670e-01,   3.80613297e-02],\n",
       "       [  7.14230749e-03,   9.92857693e-01],\n",
       "       [  6.32500368e-02,   9.36749963e-01],\n",
       "       [  7.54564059e-01,   2.45435941e-01],\n",
       "       [  4.28381205e-01,   5.71618795e-01],\n",
       "       [  9.32150763e-01,   6.78492372e-02],\n",
       "       [  9.48458406e-01,   5.15415940e-02],\n",
       "       [  7.48233881e-01,   2.51766119e-01],\n",
       "       [  9.61229751e-01,   3.87702487e-02],\n",
       "       [  5.55770113e-01,   4.44229887e-01],\n",
       "       [  9.11664750e-01,   8.83352501e-02],\n",
       "       [  9.48390685e-01,   5.16093151e-02],\n",
       "       [  5.92679956e-01,   4.07320044e-01],\n",
       "       [  8.48621601e-03,   9.91513784e-01],\n",
       "       [  2.80858924e-04,   9.99719141e-01],\n",
       "       [  6.20561967e-02,   9.37943803e-01],\n",
       "       [  5.22977458e-01,   4.77022542e-01],\n",
       "       [  9.48975842e-01,   5.10241575e-02],\n",
       "       [  9.07775750e-02,   9.09222425e-01],\n",
       "       [  2.83739338e-03,   9.97162607e-01],\n",
       "       [  2.36887878e-02,   9.76311212e-01],\n",
       "       [  8.38313553e-01,   1.61686447e-01],\n",
       "       [  9.48309532e-02,   9.05169047e-01],\n",
       "       [  3.36764018e-06,   9.99996632e-01],\n",
       "       [  9.05162870e-01,   9.48371301e-02],\n",
       "       [  4.81641577e-01,   5.18358423e-01],\n",
       "       [  9.03595824e-01,   9.64041756e-02],\n",
       "       [  7.36290980e-09,   9.99999993e-01],\n",
       "       [  9.03974473e-01,   9.60255267e-02],\n",
       "       [  8.66729650e-01,   1.33270350e-01],\n",
       "       [  7.71843543e-01,   2.28156457e-01],\n",
       "       [  1.53851568e-04,   9.99846148e-01],\n",
       "       [  9.76312167e-01,   2.36878329e-02],\n",
       "       [  8.95815766e-01,   1.04184234e-01],\n",
       "       [  9.61988715e-01,   3.80112853e-02],\n",
       "       [  1.42116810e-02,   9.85788319e-01],\n",
       "       [  8.57802351e-01,   1.42197649e-01],\n",
       "       [  5.89410542e-01,   4.10589458e-01],\n",
       "       [  2.43275450e-01,   7.56724550e-01],\n",
       "       [  9.56999608e-01,   4.30003925e-02],\n",
       "       [  7.46867417e-01,   2.53132583e-01],\n",
       "       [  7.49847879e-01,   2.50152121e-01],\n",
       "       [  9.99999996e-01,   4.12493063e-09],\n",
       "       [  7.63618305e-01,   2.36381695e-01],\n",
       "       [  2.51146595e-02,   9.74885340e-01],\n",
       "       [  9.99999683e-01,   3.16966412e-07],\n",
       "       [  2.69128094e-01,   7.30871906e-01],\n",
       "       [  9.96078095e-01,   3.92190511e-03],\n",
       "       [  7.35390187e-02,   9.26460981e-01],\n",
       "       [  1.26448413e-02,   9.87355159e-01],\n",
       "       [  7.63618305e-01,   2.36381695e-01],\n",
       "       [  5.69324038e-02,   9.43067596e-01],\n",
       "       [  8.48848351e-01,   1.51151649e-01],\n",
       "       [  9.21908375e-01,   7.80916250e-02],\n",
       "       [  9.46235759e-01,   5.37642411e-02],\n",
       "       [  2.88807218e-02,   9.71119278e-01],\n",
       "       [  9.36216115e-01,   6.37838852e-02],\n",
       "       [  3.56187852e-01,   6.43812148e-01],\n",
       "       [  4.45558693e-02,   9.55444131e-01],\n",
       "       [  2.66536960e-01,   7.33463040e-01],\n",
       "       [  3.68670732e-01,   6.31329268e-01],\n",
       "       [  9.24421875e-01,   7.55781253e-02],\n",
       "       [  5.54407443e-01,   4.45592557e-01],\n",
       "       [  8.18211580e-01,   1.81788420e-01],\n",
       "       [  1.29396406e-03,   9.98706036e-01],\n",
       "       [  8.77248657e-01,   1.22751343e-01],\n",
       "       [  9.29649818e-01,   7.03501817e-02],\n",
       "       [  9.60730200e-01,   3.92697998e-02],\n",
       "       [  9.50657259e-01,   4.93427412e-02],\n",
       "       [  6.60666396e-04,   9.99339334e-01],\n",
       "       [  9.57373325e-01,   4.26266745e-02],\n",
       "       [  9.99464099e-01,   5.35901226e-04],\n",
       "       [  9.55973984e-01,   4.40260158e-02],\n",
       "       [  9.20299616e-01,   7.97003837e-02],\n",
       "       [  8.95853039e-01,   1.04146961e-01],\n",
       "       [  9.99161245e-01,   8.38754869e-04],\n",
       "       [  6.53433068e-03,   9.93465669e-01],\n",
       "       [  9.18708156e-01,   8.12918440e-02],\n",
       "       [  7.88788206e-01,   2.11211794e-01],\n",
       "       [  9.99994786e-01,   5.21362137e-06],\n",
       "       [  9.68188978e-01,   3.18110220e-02],\n",
       "       [  2.44454546e-01,   7.55545454e-01],\n",
       "       [  4.36655975e-02,   9.56334403e-01],\n",
       "       [  9.47402455e-01,   5.25975446e-02],\n",
       "       [  9.56152484e-01,   4.38475160e-02],\n",
       "       [  9.94862300e-01,   5.13769951e-03],\n",
       "       [  5.71945620e-01,   4.28054380e-01],\n",
       "       [  1.46381506e-02,   9.85361849e-01],\n",
       "       [  9.96894386e-01,   3.10561394e-03],\n",
       "       [  8.06748532e-01,   1.93251468e-01],\n",
       "       [  4.83495374e-02,   9.51650463e-01],\n",
       "       [  8.10798904e-01,   1.89201096e-01],\n",
       "       [  4.04336180e-02,   9.59566382e-01],\n",
       "       [  6.92277179e-02,   9.30772282e-01],\n",
       "       [  9.59445228e-01,   4.05547721e-02],\n",
       "       [  5.90694576e-01,   4.09305424e-01],\n",
       "       [  8.40271665e-01,   1.59728335e-01],\n",
       "       [  9.99999986e-01,   1.35006049e-08],\n",
       "       [  9.63727877e-01,   3.62721226e-02],\n",
       "       [  1.11270478e-01,   8.88729522e-01],\n",
       "       [  8.78536180e-01,   1.21463820e-01],\n",
       "       [  9.45856958e-01,   5.41430420e-02],\n",
       "       [  9.51644992e-01,   4.83550084e-02],\n",
       "       [  9.95323565e-01,   4.67643547e-03],\n",
       "       [  1.83731615e-02,   9.81626838e-01],\n",
       "       [  4.44373641e-03,   9.95556264e-01],\n",
       "       [  9.58238751e-01,   4.17612489e-02],\n",
       "       [  9.32949287e-01,   6.70507126e-02],\n",
       "       [  2.85338732e-02,   9.71466127e-01],\n",
       "       [  9.99291576e-01,   7.08423756e-04],\n",
       "       [  8.27327364e-01,   1.72672636e-01],\n",
       "       [  9.27015070e-01,   7.29849299e-02],\n",
       "       [  9.53320552e-01,   4.66794477e-02],\n",
       "       [  9.57198391e-01,   4.28016086e-02],\n",
       "       [  9.99994187e-01,   5.81270017e-06]])"
      ]
     },
     "execution_count": 38,
     "metadata": {},
     "output_type": "execute_result"
    }
   ],
   "source": [
    "model_params=Bayes_classifier_train(2,X_train,y_train)\n",
    "y_train_prob=Bayes_classifier_predict(2,X_train, model_params)[1]\n",
    "y_val_prob=Bayes_classifier_predict(2,X_val, model_params)[1]"
   ]
  },
  {
   "cell_type": "code",
   "execution_count": 39,
   "metadata": {
    "collapsed": false
   },
   "outputs": [],
   "source": [
    "y_train_pred=[np.argmax(e) for e in posteriors]"
   ]
  },
  {
   "cell_type": "code",
   "execution_count": 40,
   "metadata": {
    "collapsed": false
   },
   "outputs": [
    {
     "data": {
      "text/plain": [
       "0.85915492957746475"
      ]
     },
     "execution_count": 40,
     "metadata": {},
     "output_type": "execute_result"
    }
   ],
   "source": [
    "from sklearn.metrics import accuracy_score\n",
    "accuracy_score(y_train, y_pred)"
   ]
  },
  {
   "cell_type": "code",
   "execution_count": null,
   "metadata": {
    "collapsed": true
   },
   "outputs": [],
   "source": []
  }
 ],
 "metadata": {
  "kernelspec": {
   "display_name": "Python 2",
   "language": "python",
   "name": "python2"
  },
  "language_info": {
   "codemirror_mode": {
    "name": "ipython",
    "version": 2
   },
   "file_extension": ".py",
   "mimetype": "text/x-python",
   "name": "python",
   "nbconvert_exporter": "python",
   "pygments_lexer": "ipython2",
   "version": "2.7.12"
  }
 },
 "nbformat": 4,
 "nbformat_minor": 0
}
